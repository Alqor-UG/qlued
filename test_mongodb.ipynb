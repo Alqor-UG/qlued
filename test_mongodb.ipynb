{
 "cells": [
  {
   "attachments": {},
   "cell_type": "markdown",
   "metadata": {},
   "source": [
    "# Some mongodb tests\n",
    "\n",
    "We need to figure out how we could make it work"
   ]
  },
  {
   "attachments": {},
   "cell_type": "markdown",
   "metadata": {},
   "source": [
    "## Create the client\n",
    "\n",
    "first we need to import the necessary libraries"
   ]
  },
  {
   "cell_type": "code",
   "execution_count": 7,
   "metadata": {},
   "outputs": [],
   "source": [
    "from pymongo.mongo_client import MongoClient\n",
    "from pymongo.server_api import ServerApi\n",
    "\n",
    "from bson.objectid import ObjectId\n",
    "from pprint import pprint\n",
    "\n",
    "import datetime\n",
    "import uuid"
   ]
  },
  {
   "cell_type": "code",
   "execution_count": 2,
   "metadata": {},
   "outputs": [],
   "source": [
    "from decouple import config\n",
    "\n",
    "mongodb_username = config(\"MONGODB_USERNAME\")\n",
    "mongodb_password = config(\"MONGODB_PASSWORD\")\n",
    "mongodb_database_url = config(\"MONGODB_DATABASE_URL\")"
   ]
  },
  {
   "cell_type": "code",
   "execution_count": 3,
   "metadata": {},
   "outputs": [
    {
     "name": "stdout",
     "output_type": "stream",
     "text": [
      "Pinged your deployment. You successfully connected to MongoDB!\n"
     ]
    }
   ],
   "source": [
    "uri = f\"mongodb+srv://{mongodb_username}:{mongodb_password}@{mongodb_database_url}/?retryWrites=true&w=majority\"\n",
    "# Create a new client and connect to the server\n",
    "client = MongoClient(uri, server_api=ServerApi(\"1\"))\n",
    "# Send a ping to confirm a successful connection\n",
    "try:\n",
    "    client.admin.command(\"ping\")\n",
    "    print(\"Pinged your deployment. You successfully connected to MongoDB!\")\n",
    "except Exception as e:\n",
    "    print(e)"
   ]
  },
  {
   "attachments": {},
   "cell_type": "markdown",
   "metadata": {},
   "source": [
    "## Create file API"
   ]
  },
  {
   "attachments": {},
   "cell_type": "markdown",
   "metadata": {},
   "source": [
    "This is now the part that we would like to execute within our system."
   ]
  },
  {
   "cell_type": "code",
   "execution_count": 4,
   "metadata": {},
   "outputs": [],
   "source": [
    "def create_job_id_dropbox(backend_name: str, username: str) -> str:\n",
    "    \"\"\"\n",
    "    Creates an appropiate job id that works with this provider\n",
    "    \"\"\"\n",
    "    job_id = (\n",
    "        (datetime.datetime.utcnow().strftime(\"%Y%m%d_%H%M%S\"))\n",
    "        + \"-\"\n",
    "        + backend_name\n",
    "        + \"-\"\n",
    "        + username\n",
    "        + \"-\"\n",
    "        + (uuid.uuid4().hex)[:5]\n",
    "    )\n",
    "    return job_id\n",
    "\n",
    "\n",
    "def create_job_id(backend_name: str, username: str) -> str:\n",
    "    \"\"\"\n",
    "    Creates an appropiate job id that works with this provider\n",
    "    \"\"\"\n",
    "    return uuid.uuid4().hex[:24]\n",
    "\n",
    "\n",
    "def upload(content_dict: dict, storage_path: str, file_id: str) -> None:\n",
    "    \"\"\"\n",
    "    Upload the file to the storage\n",
    "\n",
    "    content_dict: the content that should be uploaded onto the mongodb base\n",
    "    storage_path: the access path towards the mongodb collection\n",
    "    \"\"\"\n",
    "    storage_splitted = storage_path.split(\"/\")\n",
    "\n",
    "    # get the database on which we work\n",
    "    database = client[storage_splitted[0]]\n",
    "\n",
    "    # get the collection on which we work\n",
    "    collection_name = \".\".join(storage_splitted[1:])\n",
    "    collection = database[collection_name]\n",
    "\n",
    "    content_dict[\"_id\"] = ObjectId(file_id)\n",
    "\n",
    "    result = collection.insert_one(content_dict)\n",
    "    pprint(result)"
   ]
  },
  {
   "attachments": {},
   "cell_type": "markdown",
   "metadata": {},
   "source": [
    "get a proper job id"
   ]
  },
  {
   "cell_type": "code",
   "execution_count": 5,
   "metadata": {},
   "outputs": [],
   "source": [
    "backend_name = \"rydberg\"\n",
    "username = \"fretchen\""
   ]
  },
  {
   "attachments": {},
   "cell_type": "markdown",
   "metadata": {},
   "source": [
    "Let's assemble the code puzzles"
   ]
  },
  {
   "cell_type": "code",
   "execution_count": 10,
   "metadata": {},
   "outputs": [
    {
     "name": "stdout",
     "output_type": "stream",
     "text": [
      "<pymongo.results.InsertOneResult object at 0x10d174f10>\n"
     ]
    }
   ],
   "source": [
    "# the dictionary that we will add\n",
    "content_dict = {\"experiment_0\": \"Nothing happened here.\"}\n",
    "\n",
    "# how to access the file\n",
    "storage_path = \"backend/result/rydberg/fred\"\n",
    "storage_path = \"backend/result\"\n",
    "\n",
    "# the id of the job that we created from within Django\n",
    "job_id = create_job_id(backend_name, username)\n",
    "\n",
    "upload(content_dict, storage_path, job_id)"
   ]
  },
  {
   "cell_type": "code",
   "execution_count": 8,
   "metadata": {},
   "outputs": [
    {
     "name": "stdout",
     "output_type": "stream",
     "text": [
      "['Backend_files', 'backend', 'library', 'mbduser_test_db', 'sample_airbnb', 'sample_analytics', 'sample_geospatial', 'sample_guides', 'sample_mflix', 'sample_restaurants', 'sample_supplies', 'sample_training', 'sample_weatherdata', 'test', 'admin', 'local']\n"
     ]
    }
   ],
   "source": [
    "print(client.list_database_names())"
   ]
  },
  {
   "cell_type": "code",
   "execution_count": 9,
   "metadata": {},
   "outputs": [],
   "source": [
    "def get_file_content(storage_path: str, file_id: str) -> dict:\n",
    "    \"\"\"\n",
    "    Get the file content from the storage\n",
    "\n",
    "    storage_path: the path towards the file, excluding the filename / id\n",
    "    file_id: the id of the file we are about to look up\n",
    "    \"\"\"\n",
    "\n",
    "    document_to_find = {\"_id\": ObjectId(file_id)}\n",
    "\n",
    "    # get the database on which we work\n",
    "    database = client[storage_path.split(\"/\")[0]]\n",
    "\n",
    "    # get the collection on which we work\n",
    "    collection_name = \".\".join(storage_path.split(\"/\")[1:])\n",
    "    collection = database[collection_name]\n",
    "\n",
    "    result_found = collection.find_one(document_to_find)\n",
    "\n",
    "    return result_found"
   ]
  },
  {
   "cell_type": "code",
   "execution_count": 10,
   "metadata": {},
   "outputs": [
    {
     "name": "stdout",
     "output_type": "stream",
     "text": [
      "{'_id': ObjectId('b25d88a6729f42828dc7b6eb'),\n",
      " 'experiment_0': 'Nothing happened here.'}\n"
     ]
    }
   ],
   "source": [
    "storage_path = \"backend/Result/rydberg/fred\"\n",
    "obtained_dict = get_file_content(storage_path, job_id)\n",
    "pprint(obtained_dict)"
   ]
  },
  {
   "attachments": {},
   "cell_type": "markdown",
   "metadata": {},
   "source": [
    "## Move file\n",
    "\n",
    "Try to implement the API to move the file. However, this is only really needed on the side of the sqooler"
   ]
  },
  {
   "cell_type": "code",
   "execution_count": 17,
   "metadata": {},
   "outputs": [
    {
     "name": "stdout",
     "output_type": "stream",
     "text": [
      "{'_id': ObjectId('e2cf39bdbae94935963dcc6d'),\n",
      " 'experiment_0': 'Nothing happened here.'}\n"
     ]
    }
   ],
   "source": [
    "document_to_find = {\"_id\": ObjectId(job_id)}\n",
    "\n",
    "storage_path = \"backend/Result/rydberg/fred\"\n",
    "\n",
    "# get the database on which we work\n",
    "database = client[storage_path.split(\"/\")[0]]\n",
    "\n",
    "# get the collection on which we work\n",
    "collection_name = \".\".join(storage_path.split(\"/\")[1:])\n",
    "collection = database[collection_name]\n",
    "\n",
    "result_found = collection.find_one(document_to_find)\n",
    "\n",
    "pprint(result_found)"
   ]
  },
  {
   "cell_type": "code",
   "execution_count": null,
   "metadata": {},
   "outputs": [],
   "source": [
    "def move_file(self, start_path: str, final_path: str, file_id: str) -> None:\n",
    "    \"\"\"\n",
    "    Move the file from start_path to `final_path`\n",
    "\n",
    "    start_path: the access path at which we get the file (excluding the file id)\n",
    "    final_path: the access path at which we put the file (excluding the file id)\n",
    "    file_id: the id of the file we are about to move\n",
    "    \"\"\""
   ]
  },
  {
   "attachments": {},
   "cell_type": "markdown",
   "metadata": {},
   "source": [
    "# Get the backends that we created for test purposes\n"
   ]
  },
  {
   "cell_type": "code",
   "execution_count": 13,
   "metadata": {},
   "outputs": [
    {
     "name": "stdout",
     "output_type": "stream",
     "text": [
      "['Config']\n",
      "{'_id': ObjectId('4c864623b998441fa75f5d65'),\n",
      " 'gates': [],\n",
      " 'name': 'dummy_4c864623b998441fa75f5d65',\n",
      " 'num_wires': 3,\n",
      " 'version': '0.0.1'}\n",
      "{'_id': ObjectId('92d53c2ec63b43b2853fd004'),\n",
      " 'display_name': 'dummy_92d53c2ec63b43b2853fd004',\n",
      " 'gates': [],\n",
      " 'name': 'Dummy',\n",
      " 'num_wires': 3,\n",
      " 'version': '0.0.1'}\n"
     ]
    }
   ],
   "source": [
    "# the path was set by `sqooler`\n",
    "config_path = \"Backend_files/Config\"\n",
    "\n",
    "# get the database on which we work\n",
    "database = client[config_path.split(\"/\")[0]]\n",
    "\n",
    "# list all the collections in the database\n",
    "pprint(database.list_collection_names())\n",
    "\n",
    "configs = database[\"Config\"]\n",
    "# get all the documents in the collection configs and print them\n",
    "for config in configs.find():\n",
    "    pprint(config)"
   ]
  },
  {
   "cell_type": "code",
   "execution_count": 14,
   "metadata": {},
   "outputs": [
    {
     "name": "stdout",
     "output_type": "stream",
     "text": [
      "{'_id': ObjectId('92d53c2ec63b43b2853fd004'),\n",
      " 'display_name': 'dummy_92d53c2ec63b43b2853fd004',\n",
      " 'gates': [],\n",
      " 'name': 'Dummy',\n",
      " 'num_wires': 3,\n",
      " 'version': '0.0.1'}\n"
     ]
    }
   ],
   "source": [
    "requested_backend = \"dummy_92d53c2ec63b43b2853fd004\"\n",
    "\n",
    "document_to_find = {\"display_name\": requested_backend}\n",
    "\n",
    "config = configs.find_one(document_to_find)\n",
    "pprint(config)"
   ]
  }
 ],
 "metadata": {
  "kernelspec": {
   "display_name": "qlued",
   "language": "python",
   "name": "python3"
  },
  "language_info": {
   "codemirror_mode": {
    "name": "ipython",
    "version": 3
   },
   "file_extension": ".py",
   "mimetype": "text/x-python",
   "name": "python",
   "nbconvert_exporter": "python",
   "pygments_lexer": "ipython3",
   "version": "3.9.15"
  },
  "orig_nbformat": 4
 },
 "nbformat": 4,
 "nbformat_minor": 2
}
