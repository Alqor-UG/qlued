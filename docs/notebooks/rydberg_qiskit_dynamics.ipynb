{
 "cells": [
  {
   "attachments": {},
   "cell_type": "markdown",
   "id": "29347a99-9f0b-4779-a3ae-0f64fef33ab6",
   "metadata": {},
   "source": [
    "# Running the system through qiskit-cold-atom\n",
    "\n",
    "In this section, we will show how to run the system through the [qiskit-cold-atom](https://github.com/Qiskit-Extensions/qiskit-cold-atom) package. We will start with a short introduction to the package module and then show how to access `qlued` through the package.\n",
    "\n",
    "## Introduction to qiskit-cold-atom\n",
    "\n",
    "[qiskit-cold-atom](https://github.com/Qiskit-Extensions/qiskit-cold-atom) is an extension to the popular [Qiskit](https://qiskit.org/) framework. It is designed to simulate quantum circuits on cold atom devices. To provides access to local simulators and remote quantum hardware including providers such as `qlued`. To access `qlued` based systems, you should first install `qiskit-cold-atoms` locally:\n",
    "\n",
    "```bash\n",
    "pip install git+https://github.com/Qiskit-Extensions/qiskit-cold-atom.git\n",
    "```\n",
    "\n",
    "This installs the most up-to-date version of the package, which is compatible with our current API.  To run the cells in the repo, you'll need to have a registered account with a valid username and token for this provider. You can obtain such credentials by visiting the [sign-up page](https://qlued.alqor.io/accounts/login/).\n",
    "\n",
    "## Accessing qlued through qiskit-cold-atom\n",
    "\n",
    "The following is based on the tutorial, which is also directly published [here](https://github.com/Qiskit-Extensions/qiskit-cold-atom/blob/main/docs/tutorials/09_ryberg_dynamics.ipynb) in the original repo. Here, we simply focus on the necessary steps to access `qlued` through the package."
   ]
  },
  {
   "cell_type": "code",
   "execution_count": 12,
   "id": "4d8b72ff-d38e-4eea-941c-b142fff6fb29",
   "metadata": {},
   "outputs": [],
   "source": [
    "from pprint import pprint\n",
    "\n",
    "import numpy as np\n",
    "import matplotlib.pyplot as plt\n",
    "from qiskit.circuit import QuantumCircuit, Parameter\n",
    "from qiskit_cold_atom.providers import ColdAtomProvider"
   ]
  },
  {
   "attachments": {},
   "cell_type": "markdown",
   "id": "c2cb52bb-2d4a-4101-934b-55f48a2308b3",
   "metadata": {},
   "source": [
    "Saving/enabling your backend credentials (Optional if not alreayd done)."
   ]
  },
  {
   "cell_type": "code",
   "execution_count": 2,
   "id": "a9c0db6f-ce46-4655-9d5c-ac29db52934f",
   "metadata": {},
   "outputs": [],
   "source": [
    "provider = ColdAtomProvider.save_account(\n",
    "    url=[\n",
    "        \"https://qlued.alqor.io/api/v2/singlequdit\",\n",
    "        \"https://qlued.alqor.io/api/v2/multiqudit\",\n",
    "        \"https://qlued.alqor.io/api/v2/fermions\",\n",
    "        \"https://qlued.alqor.io/api/v2/rydberg\",\n",
    "    ],\n",
    "    username=\"NAME\",\n",
    "    token=\"TOKEN\",\n",
    "    overwrite=True\n",
    ")"
   ]
  },
  {
   "attachments": {},
   "cell_type": "markdown",
   "id": "dfe87bef-3f48-480c-96ec-861301cdf628",
   "metadata": {},
   "source": [
    "We can now load the necessary backend"
   ]
  },
  {
   "cell_type": "code",
   "execution_count": 3,
   "id": "8e1e8492-cfe6-4cbc-a101-dd5645fddd27",
   "metadata": {},
   "outputs": [
    {
     "name": "stdout",
     "output_type": "stream",
     "text": [
      "['rlx', 'rlz', 'rydberg_block', 'rydberg_full', 'barrier', 'measure']\n"
     ]
    }
   ],
   "source": [
    "provider = ColdAtomProvider.load_account()\n",
    "\n",
    "spin_device_backend = provider.get_backend(\"alqor_rydberg_simulator\")\n",
    "pprint(spin_device_backend.configuration().supported_instructions)"
   ]
  },
  {
   "attachments": {},
   "cell_type": "markdown",
   "id": "bfc973df-0a6d-45a9-b8db-fbc23b3be768",
   "metadata": {},
   "source": [
    "As you can see from above the simulator backend does provide the necessary gates. The nice thing about qiskit-cold-atom is that it provides a straight-forward way to define a circuit. It basically nicely wraps around all the json and makes accessible in a more \"common\" fashion."
   ]
  },
  {
   "cell_type": "code",
   "execution_count": 4,
   "id": "cb0aee0c-39b4-4052-af18-85bd867a862a",
   "metadata": {},
   "outputs": [
    {
     "data": {
      "image/png": "[encoded data removed]",
      "text/plain": [
       "<Figure size 747.609x535.111 with 1 Axes>"
      ]
     },
     "execution_count": 4,
     "metadata": {},
     "output_type": "execute_result"
    }
   ],
   "source": [
    "# define the number of wires\n",
    "Nwires = 5\n",
    "\n",
    "# define the parameter which we will sweep over\n",
    "omega_t = Parameter(\"ω\")\n",
    "\n",
    "# define the quantum circuit object\n",
    "qc_rabi = QuantumCircuit(5)\n",
    "\n",
    "all_modes=range(Nwires)\n",
    "\n",
    "# apply the time-dependent rotation to all the wires\n",
    "qc_rabi.rlx( omega_t, all_modes)\n",
    "\n",
    "# measure all the wires\n",
    "qc_rabi.measure_all()\n",
    "\n",
    "# draw the circuit\n",
    "qc_rabi.draw(output='mpl')"
   ]
  },
  {
   "attachments": {},
   "cell_type": "markdown",
   "id": "6c36d1c2-bae1-4cc3-b3db-5913822bcd38",
   "metadata": {},
   "source": [
    "Now that we have created the circuit we can execute it in the same way as in the all the other tutorials. But once again, all wrapped up in a nice way."
   ]
  },
  {
   "cell_type": "code",
   "execution_count": 6,
   "id": "1b98725f-570f-41d0-bdb0-9ff3c86790a1",
   "metadata": {},
   "outputs": [],
   "source": [
    "phases = np.linspace(0, 2*np.pi,15)\n",
    "\n",
    "# create a list of circuits with different phases\n",
    "remote_rabi_list = [\n",
    "    qc_rabi.assign_parameters(\n",
    "        {omega_t: phase},\n",
    "        inplace=False,\n",
    "    )\n",
    "    for phase in phases\n",
    "]\n",
    "\n",
    "# send the job to the backend\n",
    "job_remote_rabi = spin_device_backend.run(remote_rabi_list, shots=500)"
   ]
  },
  {
   "attachments": {},
   "cell_type": "markdown",
   "id": "09a84585",
   "metadata": {},
   "source": [
    "The resulting job object can be used to retrieve the results of the simulation. Let us first obtain the `job_id`"
   ]
  },
  {
   "cell_type": "code",
   "execution_count": 7,
   "id": "f820e321-4e05-468e-afa0-d385e407abc5",
   "metadata": {},
   "outputs": [
    {
     "data": {
      "text/plain": [
       "'8780f5ec7eb2426686563b56'"
      ]
     },
     "execution_count": 7,
     "metadata": {},
     "output_type": "execute_result"
    }
   ],
   "source": [
    "job_remote_rabi.job_id()"
   ]
  },
  {
   "attachments": {},
   "cell_type": "markdown",
   "id": "4ccc978d",
   "metadata": {},
   "source": [
    "Now, we can have a look if the job is finished in the standard `qiskit` way."
   ]
  },
  {
   "cell_type": "code",
   "execution_count": 8,
   "id": "63071166-e349-4801-a872-572105080d15",
   "metadata": {},
   "outputs": [
    {
     "name": "stdout",
     "output_type": "stream",
     "text": [
      "job status:  JobStatus.DONE\n"
     ]
    }
   ],
   "source": [
    "job_rabi_retrieved = spin_device_backend.retrieve_job(job_id=job_remote_rabi.job_id())\n",
    "\n",
    "print(\"job status: \", job_rabi_retrieved.status())"
   ]
  },
  {
   "attachments": {},
   "cell_type": "markdown",
   "id": "d6d7a5f5",
   "metadata": {},
   "source": [
    "Finally, we can retrieve the results of the simulation."
   ]
  },
  {
   "cell_type": "code",
   "execution_count": 9,
   "id": "aefc63d7-51b0-4f4e-addd-cc99641cb950",
   "metadata": {},
   "outputs": [],
   "source": [
    "result_remote_rabi = job_rabi_retrieved.result()"
   ]
  },
  {
   "attachments": {},
   "cell_type": "markdown",
   "id": "c2f200d9",
   "metadata": {},
   "source": [
    "Before we can plot the results, we need to convert the results into a more convenient format. "
   ]
  },
  {
   "cell_type": "code",
   "execution_count": 10,
   "id": "e36609e4-8cd0-4c0d-85a6-c38e08f62371",
   "metadata": {},
   "outputs": [],
   "source": [
    "outcomes = [result_remote_rabi.get_memory(i) for i in range(len(remote_rabi_list))]\n",
    "for i, outcome in enumerate(outcomes):\n",
    "    for j, run in enumerate(outcome):\n",
    "        outcomes[i][j] = np.array(run.split(' '), dtype = int)\n",
    "        \n",
    "outcomes = np.array(outcomes)\n",
    "means_remote_rabi = outcomes.mean(axis=1)"
   ]
  },
  {
   "attachments": {},
   "cell_type": "markdown",
   "id": "b271fdd6",
   "metadata": {},
   "source": [
    "And finally, we can plot the results."
   ]
  },
  {
   "cell_type": "code",
   "execution_count": 13,
   "id": "abbe64c3-8663-4983-956e-907eef443da6",
   "metadata": {},
   "outputs": [
    {
     "data": {
      "text/plain": [
       "Text(0.5, 0, 'time')"
      ]
     },
     "execution_count": 13,
     "metadata": {},
     "output_type": "execute_result"
    },
    {
     "data": {
      "image/png": "[encoded data removed]",
      "text/plain": [
       "<Figure size 640x480 with 2 Axes>"
      ]
     },
     "metadata": {},
     "output_type": "display_data"
    }
   ],
   "source": [
    "f, ax = plt.subplots()\n",
    "im = ax.pcolormesh(phases,np.arange(5), means_remote_rabi.T)\n",
    "f.colorbar(im, ax=ax)\n",
    "\n",
    "ax.set_ylabel('site')\n",
    "ax.set_xlabel('time')"
   ]
  },
  {
   "attachments": {},
   "cell_type": "markdown",
   "id": "45245ad9-8eac-4029-a906-ed3d818f29e7",
   "metadata": {},
   "source": [
    "### Blockade on a remote system\n",
    "\n",
    "In this last step, we can execute the Ryberg blockade on the remote system to observe the appearance of the alternating spin structure."
   ]
  },
  {
   "cell_type": "code",
   "execution_count": 14,
   "id": "b1d890f0-96a1-4345-a50e-9fbcae40726e",
   "metadata": {},
   "outputs": [
    {
     "data": {
      "image/png": "[encoded data removed]",
      "text/plain": [
       "<Figure size 914.831x535.111 with 1 Axes>"
      ]
     },
     "execution_count": 14,
     "metadata": {},
     "output_type": "execute_result"
    }
   ],
   "source": [
    "Nwires = 5\n",
    "qc2 = QuantumCircuit(5)\n",
    "\n",
    "all_modes=range(Nwires)\n",
    "alpha = Parameter(\"α\")\n",
    "beta = Parameter(\"β\")\n",
    "\n",
    "qc2.rydberg_full(omega = alpha, delta =0, phi = beta, modes=all_modes)\n",
    "\n",
    "qc2.measure_all()\n",
    "qc2.draw(output='mpl')"
   ]
  },
  {
   "cell_type": "code",
   "execution_count": 15,
   "id": "5326ce50-5c70-49f4-bf8c-a94d5599a573",
   "metadata": {},
   "outputs": [],
   "source": [
    "phases = np.linspace(0, 2*np.pi,15)\n",
    "\n",
    "circuit2_list = [\n",
    "    qc2.assign_parameters(\n",
    "        {alpha: phase, beta: phase*2},\n",
    "        inplace=False,\n",
    "    )\n",
    "    for phase in phases\n",
    "]"
   ]
  },
  {
   "cell_type": "code",
   "execution_count": 16,
   "id": "b3d6b94a-d296-43f6-af00-77909fa8a8cb",
   "metadata": {},
   "outputs": [],
   "source": [
    "job2 = spin_device_backend.run(circuit2_list, shots=500)"
   ]
  },
  {
   "cell_type": "code",
   "execution_count": 17,
   "id": "263283fc-8825-4b0b-a88d-506bfcb769b4",
   "metadata": {},
   "outputs": [
    {
     "data": {
      "text/plain": [
       "'24b401a735db404f9110d27a'"
      ]
     },
     "execution_count": 17,
     "metadata": {},
     "output_type": "execute_result"
    }
   ],
   "source": [
    "job2.job_id()"
   ]
  },
  {
   "cell_type": "code",
   "execution_count": 18,
   "id": "68c7c8c8-268b-40ff-b6ad-9bc13a3e9e17",
   "metadata": {},
   "outputs": [
    {
     "name": "stdout",
     "output_type": "stream",
     "text": [
      "job status:  JobStatus.DONE\n"
     ]
    }
   ],
   "source": [
    "job_retrieved2 = spin_device_backend.retrieve_job(job_id=job2.job_id())\n",
    "\n",
    "print(\"job status: \", job_retrieved2.status())"
   ]
  },
  {
   "cell_type": "code",
   "execution_count": 19,
   "id": "99ba0e48-e884-412c-a211-0087df98e25b",
   "metadata": {},
   "outputs": [],
   "source": [
    "result2 = job_retrieved2.result()"
   ]
  },
  {
   "attachments": {},
   "cell_type": "markdown",
   "id": "ed8a0595-3302-4a65-9085-fff903c6923f",
   "metadata": {},
   "source": [
    "make this a card of averages"
   ]
  },
  {
   "cell_type": "code",
   "execution_count": 20,
   "id": "53b6dee9-a76e-47e2-a917-7a03f0b10515",
   "metadata": {},
   "outputs": [],
   "source": [
    "outcomes = [result2.get_memory(i) for i in range(len(circuit2_list))]\n",
    "for i, outcome in enumerate(outcomes):\n",
    "    for j, run in enumerate(outcome):\n",
    "        outcomes[i][j] = np.array(run.split(' '), dtype = int)\n",
    "outcomes = np.array(outcomes)"
   ]
  },
  {
   "cell_type": "code",
   "execution_count": 21,
   "id": "e059ebd1-58c9-4229-87ee-52953cdcad2b",
   "metadata": {},
   "outputs": [],
   "source": [
    "means_1 = outcomes.mean(axis=1)"
   ]
  },
  {
   "cell_type": "code",
   "execution_count": 22,
   "id": "5ca37441-0592-4167-8246-0d305dbf4681",
   "metadata": {},
   "outputs": [
    {
     "data": {
      "text/plain": [
       "Text(0.5, 0, 'time')"
      ]
     },
     "execution_count": 22,
     "metadata": {},
     "output_type": "execute_result"
    },
    {
     "data": {
      "image/png": "[encoded data removed]",
      "text/plain": [
       "<Figure size 640x480 with 2 Axes>"
      ]
     },
     "metadata": {},
     "output_type": "display_data"
    }
   ],
   "source": [
    "f, ax = plt.subplots()\n",
    "im = ax.pcolormesh(phases,np.arange(5), means_1.T)\n",
    "f.colorbar(im, ax=ax)\n",
    "\n",
    "ax.set_ylabel('site')\n",
    "ax.set_xlabel('time')"
   ]
  },
  {
   "cell_type": "code",
   "execution_count": 39,
   "id": "dc1af2c6-b3cc-43b5-bb50-a35108fd244f",
   "metadata": {},
   "outputs": [
    {
     "data": {
      "text/html": [
       "<h3>Version Information</h3><table><tr><th>Qiskit Software</th><th>Version</th></tr><tr><td><code>qiskit-terra</code></td><td>0.22.3</td></tr><tr><td><code>qiskit-aer</code></td><td>0.11.2</td></tr><tr><td><code>qiskit-nature</code></td><td>0.5.2</td></tr><tr><th>System information</th></tr><tr><td>Python version</td><td>3.10.8</td></tr><tr><td>Python compiler</td><td>Clang 14.0.6 </td></tr><tr><td>Python build</td><td>main, Nov 24 2022 08:08:27</td></tr><tr><td>OS</td><td>Darwin</td></tr><tr><td>CPUs</td><td>8</td></tr><tr><td>Memory (Gb)</td><td>8.0</td></tr><tr><td colspan='2'>Tue Apr 25 17:51:25 2023 CEST</td></tr></table>"
      ],
      "text/plain": [
       "<IPython.core.display.HTML object>"
      ]
     },
     "metadata": {},
     "output_type": "display_data"
    }
   ],
   "source": [
    "import qiskit.tools.jupyter\n",
    "\n",
    "%qiskit_version_table"
   ]
  }
 ],
 "metadata": {
  "kernelspec": {
   "display_name": "Python 3 (ipykernel)",
   "language": "python",
   "name": "python3"
  },
  "language_info": {
   "codemirror_mode": {
    "name": "ipython",
    "version": 3
   },
   "file_extension": ".py",
   "mimetype": "text/x-python",
   "name": "python",
   "nbconvert_exporter": "python",
   "pygments_lexer": "ipython3",
   "version": "3.9.15"
  }
 },
 "nbformat": 4,
 "nbformat_minor": 5
}
