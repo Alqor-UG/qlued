{
 "cells": [
  {
   "cell_type": "markdown",
   "metadata": {},
   "source": [
    "# Mot back-end demonstration\n",
    "\n",
    "In this notebook we demonstrate the most basic of all cold atoms systems a MOT and most helpful for tests of basic functionalities of new devices. It is a cloud of atoms that is cooled down to a few micro Kelvin. The atoms are trapped in a magneto-optical trap (MOT) and can be used for further experiments. The MOT is the starting point for many experiments in cold atoms physics. In this notebook we will demonstrate how to use the MOT backend of the qlued platform. It allows us to demonstrate the basic functionality of the platform and the two gates that are always required `load` and `measure`. \n",
    "\n",
    "The communication with the backend happens through the four url\n",
    "\n",
    "1. '.../api/v2/alqor_mot_simulator/get_config/' \n",
    "2. '.../api/v2/alqor_mot_simulator/post_job/'\n",
    "3. '.../api/v2/alqor_mot_simulator/get_job_status/'\n",
    "4. '.../api/v2/alqor_mot_simulator/get_job_result/'\n",
    "\n",
    "An interactive documentation can be also found directly online under the [docs](https://qlued.alqor.io/api/v2/docs).\n",
    "\n",
    "You can use this tutorial in two ways. For testing of local deployments of `qlued` or the [hosted version](https://qlued.alqor.io) provided by Alqor."
   ]
  },
  {
   "cell_type": "markdown",
   "metadata": {},
   "source": [
    "## Optional: Preparation for local deployment\n",
    "\n",
    "Some first things that you have to do:\n",
    "\n",
    "- Apply any migrations to your local server `python manage.py migrate`\n",
    "- Start the server in a tab as `python manage.py runserver`\n",
    "- You created an account and saved this in the local `credentials.py` file"
   ]
  },
  {
   "cell_type": "markdown",
   "metadata": {},
   "source": [
    "## Get the configuration\n",
    "\n",
    "In a first step, we will try to see what are the available backends and what are the capabilities. This can be done through the json API endpoint `get_config` for the `alqor_mot_simulator` backend."
   ]
  },
  {
   "cell_type": "code",
   "execution_count": 1,
   "metadata": {},
   "outputs": [],
   "source": [
    "import requests\n",
    "import json\n",
    "from pprint import pprint"
   ]
  },
  {
   "cell_type": "code",
   "execution_count": 2,
   "metadata": {},
   "outputs": [],
   "source": [
    "from credentials_v2 import username, token"
   ]
  },
  {
   "cell_type": "code",
   "execution_count": 3,
   "metadata": {},
   "outputs": [],
   "source": [
    "host_url = \"https://qlued.alqor.io/\"\n",
    "device_name = \"alqor_mot_simulator\"\n",
    "\n",
    "#host_url = \"http://localhost:8000/\"\n",
    "#device_name = \"localtest_mot_simulator\"\n",
    "\n",
    "url_prefix = host_url + f\"api/v2/{device_name}/\""
   ]
  },
  {
   "cell_type": "code",
   "execution_count": 4,
   "metadata": {},
   "outputs": [
    {
     "name": "stdout",
     "output_type": "stream",
     "text": [
      "'https://qlued.alqor.io/api/v2/alqor_mot_simulator/get_config'\n",
      "{'backend_name': 'alqor_mot_simulator',\n",
      " 'backend_version': '0.1',\n",
      " 'basis_gates': [],\n",
      " 'cold_atom_type': 'spin',\n",
      " 'conditional': False,\n",
      " 'coupling_map': 'linear',\n",
      " 'description': 'Setup of an atomic mot.',\n",
      " 'display_name': 'mot',\n",
      " 'dynamic_reprate_enabled': False,\n",
      " 'gates': [],\n",
      " 'local': False,\n",
      " 'max_experiments': 1000,\n",
      " 'max_shots': 1000000,\n",
      " 'memory': True,\n",
      " 'n_qubits': 1,\n",
      " 'num_species': 1,\n",
      " 'open_pulse': False,\n",
      " 'simulator': True,\n",
      " 'supported_instructions': ['barrier', 'measure', 'load'],\n",
      " 'url': 'https://qlued.alqor.io/api/v2/alqor_mot_simulator/',\n",
      " 'wire_order': 'interleaved'}\n"
     ]
    }
   ],
   "source": [
    "url = url_prefix + \"get_config\"\n",
    "pprint(url)\n",
    "r = requests.get(url, params={\"username\": username, \"token\": token})\n",
    "r_dict = json.loads(r.text)\n",
    "pprint(r_dict)"
   ]
  },
  {
   "cell_type": "markdown",
   "metadata": {},
   "source": [
    "The above json gives us all the necessary information. The system has one wire, in other words one MOT. For this wire we have implemented the following instructions:\n",
    " \n",
    " - `load` which adds a Fermion to the wire.\n",
    " - `measure` which reads out the occupation."
   ]
  },
  {
   "cell_type": "markdown",
   "metadata": {},
   "source": [
    "## Load gate\n",
    "\n",
    "It is now time to try a simple sequence, where we load the MOT."
   ]
  },
  {
   "cell_type": "code",
   "execution_count": 5,
   "metadata": {},
   "outputs": [],
   "source": [
    "job_payload = {\n",
    "    \"experiment_0\": {\n",
    "        \"instructions\": [\n",
    "            (\"load\", [0], [20]),\n",
    "            (\"measure\", [0], []),\n",
    "        ],\n",
    "        \"num_wires\": 1,\n",
    "        \"shots\": 2,\n",
    "        \"wire_order\": \"interleaved\",\n",
    "    },\n",
    "}"
   ]
  },
  {
   "cell_type": "markdown",
   "metadata": {},
   "source": [
    "Now, that we set up the instruction, we can submit it via the `post_job` endpoint."
   ]
  },
  {
   "cell_type": "code",
   "execution_count": 15,
   "metadata": {},
   "outputs": [
    {
     "name": "stdout",
     "output_type": "stream",
     "text": [
      "'https://qlued.alqor.io/api/v2/alqor_mot_simulator/post_job'\n",
      "{'job_id': '0e4200b3ab894dde936f1716', 'status': 'INITIALIZING', 'detail': 'Got your json.', 'error_message': 'None'}\n"
     ]
    }
   ],
   "source": [
    "url = url_prefix + \"post_job\"\n",
    "\n",
    "pprint(url)\n",
    "job_response = requests.post(\n",
    "    url,\n",
    "    json={\"job\": json.dumps(job_payload), \"username\": username, \"token\": token},\n",
    ")\n",
    "job_id = (job_response.json())[\"job_id\"]\n",
    "print(job_response.json())"
   ]
  },
  {
   "cell_type": "markdown",
   "metadata": {},
   "source": [
    "The simulator has now put the job into the queue and we will have to wait until the calculation is finished. To see its test the job status through `get_job_status`."
   ]
  },
  {
   "cell_type": "code",
   "execution_count": 12,
   "metadata": {},
   "outputs": [
    {
     "name": "stdout",
     "output_type": "stream",
     "text": [
      "{\"job_id\": \"1730f8085c1140ec96b66d68\", \"status\": \"DONE\", \"detail\": \"None; Passed json sanity check; Compilation done. Shots sent to solver.\", \"error_message\": \"None\"}\n"
     ]
    }
   ],
   "source": [
    "url = url_prefix + \"get_job_status\"\n",
    "\n",
    "status_response = requests.get(\n",
    "    url, params={\"job_id\": job_id, \"username\": username, \"token\": token}\n",
    ")\n",
    "\n",
    "print(status_response.text)"
   ]
  },
  {
   "cell_type": "markdown",
   "metadata": {},
   "source": [
    "As we can see the job is finished, so let us see the results the `get_job_result` endpoint."
   ]
  },
  {
   "cell_type": "code",
   "execution_count": 13,
   "metadata": {},
   "outputs": [
    {
     "name": "stdout",
     "output_type": "stream",
     "text": [
      "{'backend_name': 'alqor_mot_simulator',\n",
      " 'backend_version': '0.1',\n",
      " 'display_name': 'mot',\n",
      " 'header': {},\n",
      " 'job_id': '1730f8085c1140ec96b66d68',\n",
      " 'qobj_id': None,\n",
      " 'results': [{'data': {'memory': ['20', '20']},\n",
      "              'header': {'extra metadata': 'text', 'name': 'experiment_0'},\n",
      "              'shots': 2,\n",
      "              'success': True}],\n",
      " 'status': 'finished',\n",
      " 'success': True}\n"
     ]
    }
   ],
   "source": [
    "url = url_prefix + \"get_job_result\"\n",
    "\n",
    "result_response = requests.get(\n",
    "    url, params={\"job_id\": job_id, \"username\": username, \"token\": token}\n",
    ")\n",
    "\n",
    "pprint(result_response.json())"
   ]
  },
  {
   "cell_type": "markdown",
   "metadata": {},
   "source": [
    "As you can see the MOT was twice loaded with twenty atoms.\n",
    "\n",
    "## Conclusion\n",
    "\n",
    "We have seen how to use the MOT backend of the qlued platform. It allows us to demonstrate the basic functionality of the platform and the two gates that are always required `load` and `measure`."
   ]
  }
 ],
 "metadata": {
  "kernelspec": {
   "display_name": "qlued",
   "language": "python",
   "name": "python3"
  },
  "language_info": {
   "codemirror_mode": {
    "name": "ipython",
    "version": 3
   },
   "file_extension": ".py",
   "mimetype": "text/x-python",
   "name": "python",
   "nbconvert_exporter": "python",
   "pygments_lexer": "ipython3",
   "version": "3.10.12"
  }
 },
 "nbformat": 4,
 "nbformat_minor": 2
}
