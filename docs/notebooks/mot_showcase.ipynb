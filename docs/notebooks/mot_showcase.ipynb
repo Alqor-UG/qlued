{
 "cells": [
  {
   "cell_type": "code",
   "execution_count": 1,
   "metadata": {},
   "outputs": [],
   "source": [
    "import requests\n",
    "import json\n",
    "from pprint import pprint\n",
    "import numpy as np\n",
    "import matplotlib.pyplot as plt"
   ]
  },
  {
   "cell_type": "code",
   "execution_count": 2,
   "metadata": {},
   "outputs": [],
   "source": [
    "from credentials_v2 import username, token"
   ]
  },
  {
   "cell_type": "code",
   "execution_count": 4,
   "metadata": {},
   "outputs": [],
   "source": [
    "# host_url = \"https://qlued.alqor.io/\"\n",
    "device_name = \"alqor_mot_simulator\"\n",
    "host_url = \"http://localhost:8000/\"\n",
    "device_name = \"localtest_mot_simulator\"\n",
    "url_prefix = host_url + f\"api/v2/{device_name}/\""
   ]
  },
  {
   "cell_type": "code",
   "execution_count": 5,
   "metadata": {},
   "outputs": [
    {
     "name": "stdout",
     "output_type": "stream",
     "text": [
      "'http://localhost:8000/api/v2/alqor_mot_simulator/get_config'\n"
     ]
    },
    {
     "ename": "JSONDecodeError",
     "evalue": "Expecting value: line 1 column 1 (char 0)",
     "output_type": "error",
     "traceback": [
      "\u001b[0;31m---------------------------------------------------------------------------\u001b[0m",
      "\u001b[0;31mJSONDecodeError\u001b[0m                           Traceback (most recent call last)",
      "\u001b[1;32m/Users/fredjendrzejewski/Documents/GitHub/qlued/docs/notebooks/mot_showcase.ipynb Zelle 4\u001b[0m line \u001b[0;36m4\n\u001b[1;32m      <a href='vscode-notebook-cell:/Users/fredjendrzejewski/Documents/GitHub/qlued/docs/notebooks/mot_showcase.ipynb#W3sZmlsZQ%3D%3D?line=1'>2</a>\u001b[0m pprint(url)\n\u001b[1;32m      <a href='vscode-notebook-cell:/Users/fredjendrzejewski/Documents/GitHub/qlued/docs/notebooks/mot_showcase.ipynb#W3sZmlsZQ%3D%3D?line=2'>3</a>\u001b[0m r \u001b[39m=\u001b[39m requests\u001b[39m.\u001b[39mget(url, params\u001b[39m=\u001b[39m{\u001b[39m\"\u001b[39m\u001b[39musername\u001b[39m\u001b[39m\"\u001b[39m: username, \u001b[39m\"\u001b[39m\u001b[39mtoken\u001b[39m\u001b[39m\"\u001b[39m: token})\n\u001b[0;32m----> <a href='vscode-notebook-cell:/Users/fredjendrzejewski/Documents/GitHub/qlued/docs/notebooks/mot_showcase.ipynb#W3sZmlsZQ%3D%3D?line=3'>4</a>\u001b[0m r_dict \u001b[39m=\u001b[39m json\u001b[39m.\u001b[39;49mloads(r\u001b[39m.\u001b[39;49mtext)\n\u001b[1;32m      <a href='vscode-notebook-cell:/Users/fredjendrzejewski/Documents/GitHub/qlued/docs/notebooks/mot_showcase.ipynb#W3sZmlsZQ%3D%3D?line=4'>5</a>\u001b[0m pprint(r_dict)\n",
      "File \u001b[0;32m~/miniconda3/envs/qlued/lib/python3.10/json/__init__.py:346\u001b[0m, in \u001b[0;36mloads\u001b[0;34m(s, cls, object_hook, parse_float, parse_int, parse_constant, object_pairs_hook, **kw)\u001b[0m\n\u001b[1;32m    341\u001b[0m     s \u001b[39m=\u001b[39m s\u001b[39m.\u001b[39mdecode(detect_encoding(s), \u001b[39m'\u001b[39m\u001b[39msurrogatepass\u001b[39m\u001b[39m'\u001b[39m)\n\u001b[1;32m    343\u001b[0m \u001b[39mif\u001b[39;00m (\u001b[39mcls\u001b[39m \u001b[39mis\u001b[39;00m \u001b[39mNone\u001b[39;00m \u001b[39mand\u001b[39;00m object_hook \u001b[39mis\u001b[39;00m \u001b[39mNone\u001b[39;00m \u001b[39mand\u001b[39;00m\n\u001b[1;32m    344\u001b[0m         parse_int \u001b[39mis\u001b[39;00m \u001b[39mNone\u001b[39;00m \u001b[39mand\u001b[39;00m parse_float \u001b[39mis\u001b[39;00m \u001b[39mNone\u001b[39;00m \u001b[39mand\u001b[39;00m\n\u001b[1;32m    345\u001b[0m         parse_constant \u001b[39mis\u001b[39;00m \u001b[39mNone\u001b[39;00m \u001b[39mand\u001b[39;00m object_pairs_hook \u001b[39mis\u001b[39;00m \u001b[39mNone\u001b[39;00m \u001b[39mand\u001b[39;00m \u001b[39mnot\u001b[39;00m kw):\n\u001b[0;32m--> 346\u001b[0m     \u001b[39mreturn\u001b[39;00m _default_decoder\u001b[39m.\u001b[39;49mdecode(s)\n\u001b[1;32m    347\u001b[0m \u001b[39mif\u001b[39;00m \u001b[39mcls\u001b[39m \u001b[39mis\u001b[39;00m \u001b[39mNone\u001b[39;00m:\n\u001b[1;32m    348\u001b[0m     \u001b[39mcls\u001b[39m \u001b[39m=\u001b[39m JSONDecoder\n",
      "File \u001b[0;32m~/miniconda3/envs/qlued/lib/python3.10/json/decoder.py:337\u001b[0m, in \u001b[0;36mJSONDecoder.decode\u001b[0;34m(self, s, _w)\u001b[0m\n\u001b[1;32m    332\u001b[0m \u001b[39mdef\u001b[39;00m \u001b[39mdecode\u001b[39m(\u001b[39mself\u001b[39m, s, _w\u001b[39m=\u001b[39mWHITESPACE\u001b[39m.\u001b[39mmatch):\n\u001b[1;32m    333\u001b[0m \u001b[39m    \u001b[39m\u001b[39m\"\"\"Return the Python representation of ``s`` (a ``str`` instance\u001b[39;00m\n\u001b[1;32m    334\u001b[0m \u001b[39m    containing a JSON document).\u001b[39;00m\n\u001b[1;32m    335\u001b[0m \n\u001b[1;32m    336\u001b[0m \u001b[39m    \"\"\"\u001b[39;00m\n\u001b[0;32m--> 337\u001b[0m     obj, end \u001b[39m=\u001b[39m \u001b[39mself\u001b[39;49m\u001b[39m.\u001b[39;49mraw_decode(s, idx\u001b[39m=\u001b[39;49m_w(s, \u001b[39m0\u001b[39;49m)\u001b[39m.\u001b[39;49mend())\n\u001b[1;32m    338\u001b[0m     end \u001b[39m=\u001b[39m _w(s, end)\u001b[39m.\u001b[39mend()\n\u001b[1;32m    339\u001b[0m     \u001b[39mif\u001b[39;00m end \u001b[39m!=\u001b[39m \u001b[39mlen\u001b[39m(s):\n",
      "File \u001b[0;32m~/miniconda3/envs/qlued/lib/python3.10/json/decoder.py:355\u001b[0m, in \u001b[0;36mJSONDecoder.raw_decode\u001b[0;34m(self, s, idx)\u001b[0m\n\u001b[1;32m    353\u001b[0m     obj, end \u001b[39m=\u001b[39m \u001b[39mself\u001b[39m\u001b[39m.\u001b[39mscan_once(s, idx)\n\u001b[1;32m    354\u001b[0m \u001b[39mexcept\u001b[39;00m \u001b[39mStopIteration\u001b[39;00m \u001b[39mas\u001b[39;00m err:\n\u001b[0;32m--> 355\u001b[0m     \u001b[39mraise\u001b[39;00m JSONDecodeError(\u001b[39m\"\u001b[39m\u001b[39mExpecting value\u001b[39m\u001b[39m\"\u001b[39m, s, err\u001b[39m.\u001b[39mvalue) \u001b[39mfrom\u001b[39;00m \u001b[39mNone\u001b[39;00m\n\u001b[1;32m    356\u001b[0m \u001b[39mreturn\u001b[39;00m obj, end\n",
      "\u001b[0;31mJSONDecodeError\u001b[0m: Expecting value: line 1 column 1 (char 0)"
     ]
    }
   ],
   "source": [
    "url = url_prefix + \"get_config\"\n",
    "pprint(url)\n",
    "r = requests.get(url, params={\"username\": username, \"token\": token})\n",
    "r_dict = json.loads(r.text)\n",
    "pprint(r_dict)"
   ]
  },
  {
   "cell_type": "code",
   "execution_count": 6,
   "metadata": {},
   "outputs": [],
   "source": [
    "job_payload = {\n",
    "    \"experiment_0\": {\n",
    "        \"instructions\": [\n",
    "            (\"load\", [0], [20]),\n",
    "            (\"measure\", [0], []),\n",
    "        ],\n",
    "        \"num_wires\": 1,\n",
    "        \"shots\": 2,\n",
    "        \"wire_order\": \"interleaved\",\n",
    "    },\n",
    "}"
   ]
  },
  {
   "cell_type": "code",
   "execution_count": 11,
   "metadata": {},
   "outputs": [
    {
     "name": "stdout",
     "output_type": "stream",
     "text": [
      "'https://qlued.alqor.io/api/v2/alqor_mot_simulator/post_job'\n",
      "{'job_id': 'b19916f7429f418db1910af8', 'status': 'INITIALIZING', 'detail': 'Got your json.', 'error_message': 'None'}\n"
     ]
    }
   ],
   "source": [
    "url = url_prefix + \"post_job\"\n",
    "\n",
    "pprint(url)\n",
    "job_response = requests.post(\n",
    "    url,\n",
    "    json={\"job\": json.dumps(job_payload), \"username\": username, \"token\": token},\n",
    ")\n",
    "job_id = (job_response.json())[\"job_id\"]\n",
    "print(job_response.json())"
   ]
  },
  {
   "cell_type": "code",
   "execution_count": 12,
   "metadata": {},
   "outputs": [
    {
     "name": "stdout",
     "output_type": "stream",
     "text": [
      "{\"job_id\": \"b19916f7429f418db1910af8\", \"status\": \"DONE\", \"detail\": \"None; Passed json sanity check; Compilation done. Shots sent to solver.\", \"error_message\": \"None\"}\n"
     ]
    }
   ],
   "source": [
    "url = url_prefix + \"get_job_status\"\n",
    "\n",
    "status_response = requests.get(\n",
    "    url, params={\"job_id\": job_id, \"username\": username, \"token\": token}\n",
    ")\n",
    "\n",
    "print(status_response.text)"
   ]
  },
  {
   "cell_type": "code",
   "execution_count": 11,
   "metadata": {},
   "outputs": [
    {
     "name": "stdout",
     "output_type": "stream",
     "text": [
      "{'backend_name': 'alqor_mot_simulator',\n",
      " 'backend_version': '0.1',\n",
      " 'display_name': 'mot',\n",
      " 'header': {},\n",
      " 'job_id': 'b71e9a39f5fa4dcf836ae2d3',\n",
      " 'qobj_id': None,\n",
      " 'results': [{'data': {'memory': ['20', '20']},\n",
      "              'header': {'extra metadata': 'text', 'name': 'experiment_0'},\n",
      "              'shots': 2,\n",
      "              'success': True}],\n",
      " 'status': 'finished',\n",
      " 'success': True}\n"
     ]
    }
   ],
   "source": [
    "url = url_prefix + \"get_job_result\"\n",
    "\n",
    "result_response = requests.get(\n",
    "    url, params={\"job_id\": job_id, \"username\": username, \"token\": token}\n",
    ")\n",
    "\n",
    "pprint(result_response.json())"
   ]
  }
 ],
 "metadata": {
  "kernelspec": {
   "display_name": "qlued",
   "language": "python",
   "name": "python3"
  },
  "language_info": {
   "codemirror_mode": {
    "name": "ipython",
    "version": 3
   },
   "file_extension": ".py",
   "mimetype": "text/x-python",
   "name": "python",
   "nbconvert_exporter": "python",
   "pygments_lexer": "ipython3",
   "version": "3.10.12"
  }
 },
 "nbformat": 4,
 "nbformat_minor": 2
}
