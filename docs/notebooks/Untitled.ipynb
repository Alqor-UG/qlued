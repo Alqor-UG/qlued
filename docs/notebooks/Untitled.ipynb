{
 "cells": [
  {
   "cell_type": "markdown",
   "id": "93467560-4f97-4b29-87b9-04d15b995cc3",
   "metadata": {},
   "source": [
    "For tests of ninja. It has to be in the main to work nicely."
   ]
  },
  {
   "cell_type": "code",
   "execution_count": 1,
   "id": "209e79c3-4a92-4cf5-a961-1948d8dd2a57",
   "metadata": {},
   "outputs": [],
   "source": [
    "import main\n",
    "import os, django\n",
    "\n",
    "os.environ.setdefault(\"DJANGO_SETTINGS_MODULE\", \"main.local_settings\")\n",
    "django.setup()"
   ]
  },
  {
   "cell_type": "code",
   "execution_count": 7,
   "id": "105bfabb-8d54-46e9-8b41-ea000e3023bc",
   "metadata": {},
   "outputs": [],
   "source": [
    "from ninja import Schema\n",
    "import json"
   ]
  },
  {
   "cell_type": "code",
   "execution_count": 8,
   "id": "2f5bc5da-7dd0-44b0-a4d4-ba7e9a30f04f",
   "metadata": {},
   "outputs": [],
   "source": [
    "class JobSchemaIn(Schema):\n",
    "    \"\"\"\n",
    "    The schema that is set up for the submission of new jobs.  We follow the\n",
    "    conventions of the `qiskit-cold-atom` here.\n",
    "    \"\"\"\n",
    "\n",
    "    job: str\n",
    "    username: str\n",
    "    password: str"
   ]
  },
  {
   "cell_type": "code",
   "execution_count": 9,
   "id": "23295452-de1b-48fd-9a7b-1c0887a3ab4a",
   "metadata": {},
   "outputs": [],
   "source": [
    "job_payload = {\n",
    "    \"experiment_0\": {\n",
    "        \"instructions\": [\n",
    "            (\"load\", [7], []),\n",
    "            (\"load\", [2], []),\n",
    "            (\"load\", [0], []),\n",
    "            (\"measure\", [0], []),\n",
    "            (\"measure\", [2], []),\n",
    "            (\"measure\", [6], []),\n",
    "            (\"measure\", [7], []),\n",
    "        ],\n",
    "        \"num_wires\": 8,\n",
    "        \"shots\": 4,\n",
    "    },\n",
    "}\n",
    "\n",
    "data = {\"job\": json.dumps(job_payload), \"username\": \"susan\", \"password\": \"dog\"}"
   ]
  },
  {
   "cell_type": "code",
   "execution_count": 10,
   "id": "859725bf-8df4-416a-b0b9-a7eb06004a28",
   "metadata": {},
   "outputs": [
    {
     "data": {
      "text/plain": [
       "JobSchemaIn(job='{\"experiment_0\": {\"instructions\": [[\"load\", [7], []], [\"load\", [2], []], [\"load\", [0], []], [\"measure\", [0], []], [\"measure\", [2], []], [\"measure\", [6], []], [\"measure\", [7], []]], \"num_wires\": 8, \"shots\": 4}}', username='susan', password='dog')"
      ]
     },
     "execution_count": 10,
     "metadata": {},
     "output_type": "execute_result"
    }
   ],
   "source": [
    "JobSchemaIn(**data)"
   ]
  },
  {
   "cell_type": "code",
   "execution_count": null,
   "id": "026c14be-e5fe-4b23-9484-8b9bc6f05ebc",
   "metadata": {},
   "outputs": [],
   "source": []
  }
 ],
 "metadata": {
  "kernelspec": {
   "display_name": "Python 3 (ipykernel)",
   "language": "python",
   "name": "python3"
  },
  "language_info": {
   "codemirror_mode": {
    "name": "ipython",
    "version": 3
   },
   "file_extension": ".py",
   "mimetype": "text/x-python",
   "name": "python",
   "nbconvert_exporter": "python",
   "pygments_lexer": "ipython3",
   "version": "3.9.15"
  }
 },
 "nbformat": 4,
 "nbformat_minor": 5
}
